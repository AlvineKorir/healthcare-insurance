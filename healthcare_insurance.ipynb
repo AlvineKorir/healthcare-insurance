{
 "cells": [
  {
   "cell_type": "code",
   "execution_count": 1,
   "metadata": {},
   "outputs": [],
   "source": [
    "# Importing the required packages\n",
    "import pandas as pd\n",
    "import numpy as np\n",
    "import matplotlib.pylab as plt\n",
    "import matplotlib.ticker as ticker\n",
    "import statsmodels.api as sm\n",
    "import seaborn as sns\n",
    "import scipy.stats as stats\n",
    "from scipy.stats import chi2_contingency\n",
    "from scipy.stats import chi2\n",
    "import scipy.optimize as opt\n",
    "from sklearn import preprocessing\n",
    "%matplotlib inline"
   ]
  },
  {
   "cell_type": "code",
   "execution_count": 2,
   "metadata": {},
   "outputs": [
    {
     "data": {
      "text/html": [
       "<div>\n",
       "<style scoped>\n",
       "    .dataframe tbody tr th:only-of-type {\n",
       "        vertical-align: middle;\n",
       "    }\n",
       "\n",
       "    .dataframe tbody tr th {\n",
       "        vertical-align: top;\n",
       "    }\n",
       "\n",
       "    .dataframe thead th {\n",
       "        text-align: right;\n",
       "    }\n",
       "</style>\n",
       "<table border=\"1\" class=\"dataframe\">\n",
       "  <thead>\n",
       "    <tr style=\"text-align: right;\">\n",
       "      <th></th>\n",
       "      <th>pid</th>\n",
       "      <th>self-reported health status</th>\n",
       "      <th>age in years</th>\n",
       "      <th>Is there any hindrace to receiving medical attention</th>\n",
       "      <th>gender of the respondent</th>\n",
       "      <th>Do you have health insurance?</th>\n",
       "      <th>Are you married?</th>\n",
       "      <th>Are you self employed?</th>\n",
       "      <th>house hold size</th>\n",
       "      <th>region of residence</th>\n",
       "      <th>respondent's ethnicity</th>\n",
       "      <th>highest level of education</th>\n",
       "    </tr>\n",
       "  </thead>\n",
       "  <tbody>\n",
       "    <tr>\n",
       "      <th>0</th>\n",
       "      <td>PO1</td>\n",
       "      <td>yes</td>\n",
       "      <td>31</td>\n",
       "      <td>no</td>\n",
       "      <td>male</td>\n",
       "      <td>yes</td>\n",
       "      <td>yes</td>\n",
       "      <td>yes</td>\n",
       "      <td>4</td>\n",
       "      <td>south</td>\n",
       "      <td>zulu</td>\n",
       "      <td>bachelor</td>\n",
       "    </tr>\n",
       "    <tr>\n",
       "      <th>1</th>\n",
       "      <td>PO2</td>\n",
       "      <td>yes</td>\n",
       "      <td>31</td>\n",
       "      <td>no</td>\n",
       "      <td>female</td>\n",
       "      <td>yes</td>\n",
       "      <td>yes</td>\n",
       "      <td>no</td>\n",
       "      <td>4</td>\n",
       "      <td>south</td>\n",
       "      <td>zulu</td>\n",
       "      <td>high-school</td>\n",
       "    </tr>\n",
       "    <tr>\n",
       "      <th>2</th>\n",
       "      <td>PO3</td>\n",
       "      <td>yes</td>\n",
       "      <td>54</td>\n",
       "      <td>no</td>\n",
       "      <td>male</td>\n",
       "      <td>yes</td>\n",
       "      <td>yes</td>\n",
       "      <td>no</td>\n",
       "      <td>5</td>\n",
       "      <td>west</td>\n",
       "      <td>zulu</td>\n",
       "      <td>adult-education</td>\n",
       "    </tr>\n",
       "    <tr>\n",
       "      <th>3</th>\n",
       "      <td>PO4</td>\n",
       "      <td>yes</td>\n",
       "      <td>27</td>\n",
       "      <td>no</td>\n",
       "      <td>male</td>\n",
       "      <td>yes</td>\n",
       "      <td>no</td>\n",
       "      <td>no</td>\n",
       "      <td>5</td>\n",
       "      <td>west</td>\n",
       "      <td>zulu</td>\n",
       "      <td>high-school</td>\n",
       "    </tr>\n",
       "    <tr>\n",
       "      <th>4</th>\n",
       "      <td>PO5</td>\n",
       "      <td>yes</td>\n",
       "      <td>39</td>\n",
       "      <td>no</td>\n",
       "      <td>male</td>\n",
       "      <td>yes</td>\n",
       "      <td>yes</td>\n",
       "      <td>no</td>\n",
       "      <td>5</td>\n",
       "      <td>west</td>\n",
       "      <td>zulu</td>\n",
       "      <td>none</td>\n",
       "    </tr>\n",
       "    <tr>\n",
       "      <th>5</th>\n",
       "      <td>PO6</td>\n",
       "      <td>yes</td>\n",
       "      <td>32</td>\n",
       "      <td>no</td>\n",
       "      <td>female</td>\n",
       "      <td>no</td>\n",
       "      <td>no</td>\n",
       "      <td>no</td>\n",
       "      <td>3</td>\n",
       "      <td>south</td>\n",
       "      <td>ndembele</td>\n",
       "      <td>bachelor</td>\n",
       "    </tr>\n",
       "    <tr>\n",
       "      <th>6</th>\n",
       "      <td>PO7</td>\n",
       "      <td>no</td>\n",
       "      <td>56</td>\n",
       "      <td>yes</td>\n",
       "      <td>female</td>\n",
       "      <td>yes</td>\n",
       "      <td>yes</td>\n",
       "      <td>no</td>\n",
       "      <td>2</td>\n",
       "      <td>west</td>\n",
       "      <td>zulu</td>\n",
       "      <td>high-school</td>\n",
       "    </tr>\n",
       "    <tr>\n",
       "      <th>7</th>\n",
       "      <td>PO8</td>\n",
       "      <td>yes</td>\n",
       "      <td>60</td>\n",
       "      <td>no</td>\n",
       "      <td>female</td>\n",
       "      <td>yes</td>\n",
       "      <td>yes</td>\n",
       "      <td>no</td>\n",
       "      <td>2</td>\n",
       "      <td>south</td>\n",
       "      <td>zulu</td>\n",
       "      <td>high-school</td>\n",
       "    </tr>\n",
       "    <tr>\n",
       "      <th>8</th>\n",
       "      <td>PO9</td>\n",
       "      <td>yes</td>\n",
       "      <td>62</td>\n",
       "      <td>no</td>\n",
       "      <td>male</td>\n",
       "      <td>yes</td>\n",
       "      <td>yes</td>\n",
       "      <td>no</td>\n",
       "      <td>2</td>\n",
       "      <td>south</td>\n",
       "      <td>zulu</td>\n",
       "      <td>high-school</td>\n",
       "    </tr>\n",
       "    <tr>\n",
       "      <th>9</th>\n",
       "      <td>PO10</td>\n",
       "      <td>yes</td>\n",
       "      <td>52</td>\n",
       "      <td>no</td>\n",
       "      <td>female</td>\n",
       "      <td>no</td>\n",
       "      <td>yes</td>\n",
       "      <td>no</td>\n",
       "      <td>2</td>\n",
       "      <td>northeast</td>\n",
       "      <td>ndembele</td>\n",
       "      <td>high-school</td>\n",
       "    </tr>\n",
       "  </tbody>\n",
       "</table>\n",
       "</div>"
      ],
      "text/plain": [
       "    pid self-reported health status  age in years  \\\n",
       "0   PO1                         yes            31   \n",
       "1   PO2                         yes            31   \n",
       "2   PO3                         yes            54   \n",
       "3   PO4                         yes            27   \n",
       "4   PO5                         yes            39   \n",
       "5   PO6                         yes            32   \n",
       "6   PO7                          no            56   \n",
       "7   PO8                         yes            60   \n",
       "8   PO9                         yes            62   \n",
       "9  PO10                         yes            52   \n",
       "\n",
       "  Is there any hindrace to receiving medical attention  \\\n",
       "0                                                 no     \n",
       "1                                                 no     \n",
       "2                                                 no     \n",
       "3                                                 no     \n",
       "4                                                 no     \n",
       "5                                                 no     \n",
       "6                                                yes     \n",
       "7                                                 no     \n",
       "8                                                 no     \n",
       "9                                                 no     \n",
       "\n",
       "  gender of the respondent Do you have health insurance? Are you married?  \\\n",
       "0                     male                           yes              yes   \n",
       "1                   female                           yes              yes   \n",
       "2                     male                           yes              yes   \n",
       "3                     male                           yes               no   \n",
       "4                     male                           yes              yes   \n",
       "5                   female                            no               no   \n",
       "6                   female                           yes              yes   \n",
       "7                   female                           yes              yes   \n",
       "8                     male                           yes              yes   \n",
       "9                   female                            no              yes   \n",
       "\n",
       "  Are you self employed?  house hold size region of residence  \\\n",
       "0                    yes                4               south   \n",
       "1                     no                4               south   \n",
       "2                     no                5                west   \n",
       "3                     no                5                west   \n",
       "4                     no                5                west   \n",
       "5                     no                3               south   \n",
       "6                     no                2                west   \n",
       "7                     no                2               south   \n",
       "8                     no                2               south   \n",
       "9                     no                2           northeast   \n",
       "\n",
       "  respondent's ethnicity highest level of education  \n",
       "0                   zulu                   bachelor  \n",
       "1                   zulu                high-school  \n",
       "2                   zulu            adult-education  \n",
       "3                   zulu                high-school  \n",
       "4                   zulu                       none  \n",
       "5               ndembele                   bachelor  \n",
       "6                   zulu                high-school  \n",
       "7                   zulu                high-school  \n",
       "8                   zulu                high-school  \n",
       "9               ndembele                high-school  "
      ]
     },
     "execution_count": 2,
     "metadata": {},
     "output_type": "execute_result"
    }
   ],
   "source": [
    "# Reading the data set and dispalay the first 10 rows\n",
    "path = \"/home/akorir/Documents/Exams/projects/healthcare/HealthInsurance.xlsx\"\n",
    "df = pd.read_excel(path)\n",
    "df.head(10)"
   ]
  },
  {
   "cell_type": "code",
   "execution_count": 3,
   "metadata": {},
   "outputs": [
    {
     "data": {
      "text/html": [
       "<div>\n",
       "<style scoped>\n",
       "    .dataframe tbody tr th:only-of-type {\n",
       "        vertical-align: middle;\n",
       "    }\n",
       "\n",
       "    .dataframe tbody tr th {\n",
       "        vertical-align: top;\n",
       "    }\n",
       "\n",
       "    .dataframe thead th {\n",
       "        text-align: right;\n",
       "    }\n",
       "</style>\n",
       "<table border=\"1\" class=\"dataframe\">\n",
       "  <thead>\n",
       "    <tr style=\"text-align: right;\">\n",
       "      <th></th>\n",
       "      <th>pid</th>\n",
       "      <th>report</th>\n",
       "      <th>age</th>\n",
       "      <th>hindrance</th>\n",
       "      <th>gender</th>\n",
       "      <th>insured</th>\n",
       "      <th>married</th>\n",
       "      <th>employed</th>\n",
       "      <th>household</th>\n",
       "      <th>residence</th>\n",
       "      <th>ethnicity</th>\n",
       "      <th>education</th>\n",
       "    </tr>\n",
       "  </thead>\n",
       "  <tbody>\n",
       "    <tr>\n",
       "      <th>0</th>\n",
       "      <td>PO1</td>\n",
       "      <td>yes</td>\n",
       "      <td>31</td>\n",
       "      <td>no</td>\n",
       "      <td>male</td>\n",
       "      <td>yes</td>\n",
       "      <td>yes</td>\n",
       "      <td>yes</td>\n",
       "      <td>4</td>\n",
       "      <td>south</td>\n",
       "      <td>zulu</td>\n",
       "      <td>bachelor</td>\n",
       "    </tr>\n",
       "    <tr>\n",
       "      <th>1</th>\n",
       "      <td>PO2</td>\n",
       "      <td>yes</td>\n",
       "      <td>31</td>\n",
       "      <td>no</td>\n",
       "      <td>female</td>\n",
       "      <td>yes</td>\n",
       "      <td>yes</td>\n",
       "      <td>no</td>\n",
       "      <td>4</td>\n",
       "      <td>south</td>\n",
       "      <td>zulu</td>\n",
       "      <td>high-school</td>\n",
       "    </tr>\n",
       "    <tr>\n",
       "      <th>2</th>\n",
       "      <td>PO3</td>\n",
       "      <td>yes</td>\n",
       "      <td>54</td>\n",
       "      <td>no</td>\n",
       "      <td>male</td>\n",
       "      <td>yes</td>\n",
       "      <td>yes</td>\n",
       "      <td>no</td>\n",
       "      <td>5</td>\n",
       "      <td>west</td>\n",
       "      <td>zulu</td>\n",
       "      <td>adult-education</td>\n",
       "    </tr>\n",
       "    <tr>\n",
       "      <th>3</th>\n",
       "      <td>PO4</td>\n",
       "      <td>yes</td>\n",
       "      <td>27</td>\n",
       "      <td>no</td>\n",
       "      <td>male</td>\n",
       "      <td>yes</td>\n",
       "      <td>no</td>\n",
       "      <td>no</td>\n",
       "      <td>5</td>\n",
       "      <td>west</td>\n",
       "      <td>zulu</td>\n",
       "      <td>high-school</td>\n",
       "    </tr>\n",
       "    <tr>\n",
       "      <th>4</th>\n",
       "      <td>PO5</td>\n",
       "      <td>yes</td>\n",
       "      <td>39</td>\n",
       "      <td>no</td>\n",
       "      <td>male</td>\n",
       "      <td>yes</td>\n",
       "      <td>yes</td>\n",
       "      <td>no</td>\n",
       "      <td>5</td>\n",
       "      <td>west</td>\n",
       "      <td>zulu</td>\n",
       "      <td>none</td>\n",
       "    </tr>\n",
       "    <tr>\n",
       "      <th>5</th>\n",
       "      <td>PO6</td>\n",
       "      <td>yes</td>\n",
       "      <td>32</td>\n",
       "      <td>no</td>\n",
       "      <td>female</td>\n",
       "      <td>no</td>\n",
       "      <td>no</td>\n",
       "      <td>no</td>\n",
       "      <td>3</td>\n",
       "      <td>south</td>\n",
       "      <td>ndembele</td>\n",
       "      <td>bachelor</td>\n",
       "    </tr>\n",
       "    <tr>\n",
       "      <th>6</th>\n",
       "      <td>PO7</td>\n",
       "      <td>no</td>\n",
       "      <td>56</td>\n",
       "      <td>yes</td>\n",
       "      <td>female</td>\n",
       "      <td>yes</td>\n",
       "      <td>yes</td>\n",
       "      <td>no</td>\n",
       "      <td>2</td>\n",
       "      <td>west</td>\n",
       "      <td>zulu</td>\n",
       "      <td>high-school</td>\n",
       "    </tr>\n",
       "    <tr>\n",
       "      <th>7</th>\n",
       "      <td>PO8</td>\n",
       "      <td>yes</td>\n",
       "      <td>60</td>\n",
       "      <td>no</td>\n",
       "      <td>female</td>\n",
       "      <td>yes</td>\n",
       "      <td>yes</td>\n",
       "      <td>no</td>\n",
       "      <td>2</td>\n",
       "      <td>south</td>\n",
       "      <td>zulu</td>\n",
       "      <td>high-school</td>\n",
       "    </tr>\n",
       "    <tr>\n",
       "      <th>8</th>\n",
       "      <td>PO9</td>\n",
       "      <td>yes</td>\n",
       "      <td>62</td>\n",
       "      <td>no</td>\n",
       "      <td>male</td>\n",
       "      <td>yes</td>\n",
       "      <td>yes</td>\n",
       "      <td>no</td>\n",
       "      <td>2</td>\n",
       "      <td>south</td>\n",
       "      <td>zulu</td>\n",
       "      <td>high-school</td>\n",
       "    </tr>\n",
       "    <tr>\n",
       "      <th>9</th>\n",
       "      <td>PO10</td>\n",
       "      <td>yes</td>\n",
       "      <td>52</td>\n",
       "      <td>no</td>\n",
       "      <td>female</td>\n",
       "      <td>no</td>\n",
       "      <td>yes</td>\n",
       "      <td>no</td>\n",
       "      <td>2</td>\n",
       "      <td>northeast</td>\n",
       "      <td>ndembele</td>\n",
       "      <td>high-school</td>\n",
       "    </tr>\n",
       "  </tbody>\n",
       "</table>\n",
       "</div>"
      ],
      "text/plain": [
       "    pid report  age hindrance  gender insured married employed  household  \\\n",
       "0   PO1    yes   31        no    male     yes     yes      yes          4   \n",
       "1   PO2    yes   31        no  female     yes     yes       no          4   \n",
       "2   PO3    yes   54        no    male     yes     yes       no          5   \n",
       "3   PO4    yes   27        no    male     yes      no       no          5   \n",
       "4   PO5    yes   39        no    male     yes     yes       no          5   \n",
       "5   PO6    yes   32        no  female      no      no       no          3   \n",
       "6   PO7     no   56       yes  female     yes     yes       no          2   \n",
       "7   PO8    yes   60        no  female     yes     yes       no          2   \n",
       "8   PO9    yes   62        no    male     yes     yes       no          2   \n",
       "9  PO10    yes   52        no  female      no     yes       no          2   \n",
       "\n",
       "   residence ethnicity        education  \n",
       "0      south      zulu         bachelor  \n",
       "1      south      zulu      high-school  \n",
       "2       west      zulu  adult-education  \n",
       "3       west      zulu      high-school  \n",
       "4       west      zulu             none  \n",
       "5      south  ndembele         bachelor  \n",
       "6       west      zulu      high-school  \n",
       "7      south      zulu      high-school  \n",
       "8      south      zulu      high-school  \n",
       "9  northeast  ndembele      high-school  "
      ]
     },
     "execution_count": 3,
     "metadata": {},
     "output_type": "execute_result"
    }
   ],
   "source": [
    "# Renaming the column headers\n",
    "df.columns = [\"pid\",\"report\",\"age\",\"hindrance\",\"gender\",\"insured\",\"married\",\"employed\",\n",
    "              \"household\",\"residence\",\"ethnicity\",\"education\"]\n",
    "df.head(10)"
   ]
  },
  {
   "cell_type": "code",
   "execution_count": 11,
   "metadata": {},
   "outputs": [
    {
     "name": "stdout",
     "output_type": "stream",
     "text": [
      "pid\n",
      "False    8802\n",
      "Name: pid, dtype: int64\n",
      "\n",
      "report\n",
      "False    8802\n",
      "Name: report, dtype: int64\n",
      "\n",
      "age\n",
      "False    8802\n",
      "Name: age, dtype: int64\n",
      "\n",
      "hindrance\n",
      "False    8802\n",
      "Name: hindrance, dtype: int64\n",
      "\n",
      "gender\n",
      "False    8802\n",
      "Name: gender, dtype: int64\n",
      "\n",
      "insured\n",
      "False    8802\n",
      "Name: insured, dtype: int64\n",
      "\n",
      "married\n",
      "False    8802\n",
      "Name: married, dtype: int64\n",
      "\n",
      "employed\n",
      "False    8802\n",
      "Name: employed, dtype: int64\n",
      "\n",
      "household\n",
      "False    8802\n",
      "Name: household, dtype: int64\n",
      "\n",
      "residence\n",
      "False    8802\n",
      "Name: residence, dtype: int64\n",
      "\n",
      "ethnicity\n",
      "False    8802\n",
      "Name: ethnicity, dtype: int64\n",
      "\n",
      "education\n",
      "False    8802\n",
      "Name: education, dtype: int64\n",
      "\n"
     ]
    }
   ],
   "source": [
    "# Identify and count the missing values in each column\n",
    "#\"True\" represents a missing value, \"False\" means the value is present in the dataset\n",
    "\n",
    "missing_data = df.isnull()\n",
    "for column in missing_data.columns.values.tolist():\n",
    "    print(column)\n",
    "    print (missing_data[column].value_counts())\n",
    "    print(\"\")"
   ]
  },
  {
   "cell_type": "code",
   "execution_count": 5,
   "metadata": {},
   "outputs": [
    {
     "data": {
      "text/plain": [
       "yes    7052\n",
       "no     1750\n",
       "Name: insured, dtype: int64"
      ]
     },
     "execution_count": 5,
     "metadata": {},
     "output_type": "execute_result"
    }
   ],
   "source": [
    "df[\"insured\"].value_counts()"
   ]
  },
  {
   "cell_type": "code",
   "execution_count": 6,
   "metadata": {},
   "outputs": [
    {
     "data": {
      "text/plain": [
       "male      4633\n",
       "female    4169\n",
       "Name: gender, dtype: int64"
      ]
     },
     "execution_count": 6,
     "metadata": {},
     "output_type": "execute_result"
    }
   ],
   "source": [
    "df[\"gender\"].value_counts()"
   ]
  },
  {
   "cell_type": "code",
   "execution_count": 12,
   "metadata": {},
   "outputs": [
    {
     "data": {
      "image/png": "[encoded data removed]",
      "text/plain": [
       "<Figure size 576x432 with 1 Axes>"
      ]
     },
     "metadata": {},
     "output_type": "display_data"
    }
   ],
   "source": [
    "# for gender we use a count plot\n",
    "\n",
    "plt.figure(figsize = (8,6))\n",
    "sns.set(style = \"darkgrid\")\n",
    "ax = sns.countplot(x = 'gender', data = df)\n",
    "plt.title('Distribution of Gender of Respondents')\n",
    "plt.ylabel('Number of Respondents')\n",
    "plt.xlabel('Gender')\n",
    "\n",
    "ncount = len(df)\n",
    "\n",
    "for p in ax.patches:\n",
    "    height = p.get_height()\n",
    "    ax.text(p.get_x() + p.get_width()/2., height + 3,\n",
    "            '{:.1f}%'.format(100 * height/ncount), ha = \"center\")"
   ]
  },
  {
   "cell_type": "code",
   "execution_count": 13,
   "metadata": {},
   "outputs": [
    {
     "data": {
      "text/html": [
       "<div>\n",
       "<style scoped>\n",
       "    .dataframe tbody tr th:only-of-type {\n",
       "        vertical-align: middle;\n",
       "    }\n",
       "\n",
       "    .dataframe tbody tr th {\n",
       "        vertical-align: top;\n",
       "    }\n",
       "\n",
       "    .dataframe thead th {\n",
       "        text-align: right;\n",
       "    }\n",
       "</style>\n",
       "<table border=\"1\" class=\"dataframe\">\n",
       "  <thead>\n",
       "    <tr style=\"text-align: right;\">\n",
       "      <th></th>\n",
       "      <th>age</th>\n",
       "      <th>household</th>\n",
       "    </tr>\n",
       "    <tr>\n",
       "      <th>insured</th>\n",
       "      <th></th>\n",
       "      <th></th>\n",
       "    </tr>\n",
       "  </thead>\n",
       "  <tbody>\n",
       "    <tr>\n",
       "      <th>no</th>\n",
       "      <td>35.568571</td>\n",
       "      <td>3.331429</td>\n",
       "    </tr>\n",
       "    <tr>\n",
       "      <th>yes</th>\n",
       "      <td>39.772689</td>\n",
       "      <td>3.034458</td>\n",
       "    </tr>\n",
       "  </tbody>\n",
       "</table>\n",
       "</div>"
      ],
      "text/plain": [
       "               age  household\n",
       "insured                      \n",
       "no       35.568571   3.331429\n",
       "yes      39.772689   3.034458"
      ]
     },
     "execution_count": 13,
     "metadata": {},
     "output_type": "execute_result"
    }
   ],
   "source": [
    "df.groupby(\"insured\").mean()"
   ]
  },
  {
   "cell_type": "markdown",
   "metadata": {},
   "source": [
    "The average age of respondents having healthcare insurance is higher than that of those who didn’t.\n",
    "The average household size of respondents having healthcare insurance is lower than those who didn't."
   ]
  },
  {
   "cell_type": "code",
   "execution_count": 15,
   "metadata": {},
   "outputs": [
    {
     "data": {
      "text/plain": [
       "Text(0, 0.5, 'Frequency of Insured')"
      ]
     },
     "execution_count": 15,
     "metadata": {},
     "output_type": "execute_result"
    },
    {
     "data": {
      "image/png": "[encoded data removed]",
      "text/plain": [
       "<Figure size 432x288 with 1 Axes>"
      ]
     },
     "metadata": {},
     "output_type": "display_data"
    }
   ],
   "source": [
    "pd.crosstab(df.report, df.insured).plot(kind = 'bar')\n",
    "plt.title('Health status')\n",
    "plt.xlabel('Self report heatth status')\n",
    "plt.ylabel('Frequency of Insured')"
   ]
  },
  {
   "cell_type": "markdown",
   "metadata": {},
   "source": [
    "The purchase of the healthcare insurance depends a great deal on the health status. \n",
    "Thus, the self report health status can be a good predictor of the outcome variable."
   ]
  },
  {
   "cell_type": "code",
   "execution_count": 16,
   "metadata": {},
   "outputs": [
    {
     "data": {
      "image/png": "[encoded data removed]",
      "text/plain": [
       "<Figure size 864x576 with 1 Axes>"
      ]
     },
     "metadata": {},
     "output_type": "display_data"
    }
   ],
   "source": [
    "ax = df.hist(column = 'age', bins = 22, grid = True, figsize = (12,8), \n",
    "             color = '#86bf91', zorder = 2, rwidth = 0.9)\n",
    "\n",
    "ax = ax[0]\n",
    "for x in ax:\n",
    "\n",
    "    # Switch off ticks\n",
    "    x.tick_params(axis =\" both\", which = \"both\", bottom = \"off\", top = \"off\", labelbottom = \"on\", \n",
    "                  left = \"off\", right = \"off\", labelleft = \"on\")\n",
    "\n",
    "    # Set title\n",
    "    x.set_title(\"Age Distribution of Respondents\", weight = 'bold', size = 14)\n",
    "\n",
    "    # Set x-axis label\n",
    "    x.set_ylabel(\"Number of Respondents\", labelpad = 20, weight = 'bold', size = 12)\n",
    "\n",
    "    # Set y-axis label\n",
    "    x.set_xlabel(\"Age in Years\", labelpad = 20, weight = 'bold', size = 12)"
   ]
  },
  {
   "cell_type": "markdown",
   "metadata": {},
   "source": [
    "Most of the respondents in this dataset are in the age range of 30–50"
   ]
  },
  {
   "cell_type": "code",
   "execution_count": 21,
   "metadata": {},
   "outputs": [
    {
     "data": {
      "text/plain": [
       "Text(0, 0.5, 'Frequency')"
      ]
     },
     "execution_count": 21,
     "metadata": {},
     "output_type": "execute_result"
    },
    {
     "data": {
      "image/png": "[encoded data removed]",
      "text/plain": [
       "<Figure size 432x288 with 1 Axes>"
      ]
     },
     "metadata": {},
     "output_type": "display_data"
    }
   ],
   "source": [
    "pd.crosstab(df.hindrance, df.insured).plot(kind = 'bar')\n",
    "plt.title('Bar Chart of Medication Hindrance vs Being Insured')\n",
    "plt.xlabel('Is there hindrance to medication?')\n",
    "plt.ylabel('Frequency')"
   ]
  },
  {
   "cell_type": "markdown",
   "metadata": {},
   "source": [
    "Medical hindrance seems a good predictor of the outcome variable"
   ]
  },
  {
   "cell_type": "code",
   "execution_count": 23,
   "metadata": {},
   "outputs": [
    {
     "data": {
      "text/plain": [
       "Text(0, 0.5, 'Frequency')"
      ]
     },
     "execution_count": 23,
     "metadata": {},
     "output_type": "execute_result"
    },
    {
     "data": {
      "image/png": "[encoded data removed]",
      "text/plain": [
       "<Figure size 432x288 with 1 Axes>"
      ]
     },
     "metadata": {},
     "output_type": "display_data"
    }
   ],
   "source": [
    "pd.crosstab(df.gender, df.insured).plot(kind = 'bar')\n",
    "plt.title('Bar Chart of Gender vs Being Insured')\n",
    "plt.xlabel('Gender')\n",
    "plt.ylabel('Frequency')"
   ]
  },
  {
   "cell_type": "markdown",
   "metadata": {},
   "source": [
    "Gender seems a good predictor of the outcome variable"
   ]
  },
  {
   "cell_type": "code",
   "execution_count": 25,
   "metadata": {},
   "outputs": [
    {
     "data": {
      "text/plain": [
       "Text(0, 0.5, 'Frequency')"
      ]
     },
     "execution_count": 25,
     "metadata": {},
     "output_type": "execute_result"
    },
    {
     "data": {
      "image/png": "[encoded data removed]",
      "text/plain": [
       "<Figure size 432x288 with 1 Axes>"
      ]
     },
     "metadata": {},
     "output_type": "display_data"
    }
   ],
   "source": [
    "pd.crosstab(df.married, df.insured).plot(kind = 'bar')\n",
    "plt.title('Bar Chart of Marital Status vs Being Insured')\n",
    "plt.xlabel('Married?')\n",
    "plt.ylabel('Frequency')"
   ]
  },
  {
   "cell_type": "markdown",
   "metadata": {},
   "source": [
    "Marital status seems a good predictor of the outcome variable"
   ]
  },
  {
   "cell_type": "code",
   "execution_count": 26,
   "metadata": {},
   "outputs": [
    {
     "data": {
      "text/plain": [
       "Text(0, 0.5, 'Frequency')"
      ]
     },
     "execution_count": 26,
     "metadata": {},
     "output_type": "execute_result"
    },
    {
     "data": {
      "image/png": "[encoded data removed]",
      "text/plain": [
       "<Figure size 432x288 with 1 Axes>"
      ]
     },
     "metadata": {},
     "output_type": "display_data"
    }
   ],
   "source": [
    "pd.crosstab(df.married, df.insured).plot(kind = 'bar')\n",
    "plt.title('Bar Chart of Self-employment Status vs Being Insured')\n",
    "plt.xlabel('Are you self employed?')\n",
    "plt.ylabel('Frequency')"
   ]
  },
  {
   "cell_type": "markdown",
   "metadata": {},
   "source": [
    "Self employment status seems a good predictor of the outcome variable"
   ]
  },
  {
   "cell_type": "code",
   "execution_count": 34,
   "metadata": {},
   "outputs": [
    {
     "data": {
      "image/png": "[encoded data removed]",
      "text/plain": [
       "<Figure size 864x576 with 1 Axes>"
      ]
     },
     "metadata": {},
     "output_type": "display_data"
    }
   ],
   "source": [
    "ax = df.hist(column = 'household', bins = 12, grid = True, figsize = (12,8), \n",
    "             color = '#86bf91', zorder = 2, rwidth = 0.9)\n",
    "\n",
    "ax = ax[0]\n",
    "for x in ax:\n",
    "\n",
    "    # Switch off ticks\n",
    "    x.tick_params(axis =\" both\", which = \"both\", bottom = \"off\", top = \"off\", labelbottom = \"on\", \n",
    "                  left = \"off\", right = \"off\", labelleft = \"on\")\n",
    "\n",
    "    # Set title\n",
    "    x.set_title(\"Histogram of Household Size Distribution\", weight = 'bold', size = 14)\n",
    "\n",
    "    # Set x-axis label\n",
    "    x.set_ylabel(\"Number of Respondents\", labelpad = 20, weight = 'bold', size = 12)\n",
    "\n",
    "    # Set y-axis label\n",
    "    x.set_xlabel(\"Number of Persons\", labelpad = 20, weight = 'bold', size = 12)"
   ]
  },
  {
   "cell_type": "markdown",
   "metadata": {},
   "source": [
    "Average household size is less than 4 persons"
   ]
  },
  {
   "cell_type": "code",
   "execution_count": 36,
   "metadata": {},
   "outputs": [
    {
     "data": {
      "text/plain": [
       "Text(0, 0.5, 'Frequency')"
      ]
     },
     "execution_count": 36,
     "metadata": {},
     "output_type": "execute_result"
    },
    {
     "data": {
      "image/png": "[encoded data removed]",
      "text/plain": [
       "<Figure size 432x288 with 1 Axes>"
      ]
     },
     "metadata": {},
     "output_type": "display_data"
    }
   ],
   "source": [
    "pd.crosstab(df.residence, df.insured).plot(kind = 'bar')\n",
    "plt.title('Bar Chart of Region of Residence vs Being Insured')\n",
    "plt.xlabel('Region')\n",
    "plt.ylabel('Frequency')"
   ]
  },
  {
   "cell_type": "markdown",
   "metadata": {},
   "source": [
    "Region of residence seems a good predictor of the outcome variable"
   ]
  },
  {
   "cell_type": "code",
   "execution_count": 37,
   "metadata": {},
   "outputs": [
    {
     "data": {
      "text/plain": [
       "Text(0, 0.5, 'Frequency')"
      ]
     },
     "execution_count": 37,
     "metadata": {},
     "output_type": "execute_result"
    },
    {
     "data": {
      "image/png": "[encoded data removed]",
      "text/plain": [
       "<Figure size 432x288 with 1 Axes>"
      ]
     },
     "metadata": {},
     "output_type": "display_data"
    }
   ],
   "source": [
    "pd.crosstab(df.ethnicity, df.insured).plot(kind = 'bar')\n",
    "plt.title('Bar Chart of Ethnicity vs Being Insured')\n",
    "plt.xlabel('Ethnicity')\n",
    "plt.ylabel('Frequency')"
   ]
  },
  {
   "cell_type": "markdown",
   "metadata": {},
   "source": [
    "Ethicity seems a good predictor of the outcome variable"
   ]
  },
  {
   "cell_type": "code",
   "execution_count": 38,
   "metadata": {},
   "outputs": [
    {
     "data": {
      "text/plain": [
       "Text(0, 0.5, 'Frequency')"
      ]
     },
     "execution_count": 38,
     "metadata": {},
     "output_type": "execute_result"
    },
    {
     "data": {
      "image/png": "[encoded data removed]",
      "text/plain": [
       "<Figure size 432x288 with 1 Axes>"
      ]
     },
     "metadata": {},
     "output_type": "display_data"
    }
   ],
   "source": [
    "pd.crosstab(df.education, df.insured).plot(kind = 'bar')\n",
    "plt.title('Bar Chart of Level of Education vs Being Insured')\n",
    "plt.xlabel('Education Level')\n",
    "plt.ylabel('Frequency')"
   ]
  },
  {
   "cell_type": "markdown",
   "metadata": {},
   "source": [
    "Level of education seems a good predictor of the outcome variable"
   ]
  },
  {
   "cell_type": "code",
   "execution_count": 4,
   "metadata": {},
   "outputs": [],
   "source": [
    "# using categorical values\n",
    "\n",
    "df['insured'] = df['insured'].astype('category').cat.codes\n",
    "df['report'] = df['report'].astype('category').cat.codes\n",
    "df['hindrance'] = df['hindrance'].astype('category').cat.codes\n",
    "df['gender'] = df['gender'].astype('category').cat.codes\n",
    "df['married'] = df['married'].astype('category').cat.codes\n",
    "df['employed'] = df['employed'].astype('category').cat.codes\n",
    "df['residence'] = df['residence'].astype('category').cat.codes\n",
    "df['ethnicity'] = df['ethnicity'].astype('category').cat.codes\n",
    "df['education'] = df['education'].astype('category').cat.codes"
   ]
  },
  {
   "cell_type": "code",
   "execution_count": 5,
   "metadata": {},
   "outputs": [
    {
     "data": {
      "text/html": [
       "<div>\n",
       "<style scoped>\n",
       "    .dataframe tbody tr th:only-of-type {\n",
       "        vertical-align: middle;\n",
       "    }\n",
       "\n",
       "    .dataframe tbody tr th {\n",
       "        vertical-align: top;\n",
       "    }\n",
       "\n",
       "    .dataframe thead th {\n",
       "        text-align: right;\n",
       "    }\n",
       "</style>\n",
       "<table border=\"1\" class=\"dataframe\">\n",
       "  <thead>\n",
       "    <tr style=\"text-align: right;\">\n",
       "      <th></th>\n",
       "      <th>pid</th>\n",
       "      <th>report</th>\n",
       "      <th>age</th>\n",
       "      <th>hindrance</th>\n",
       "      <th>gender</th>\n",
       "      <th>insured</th>\n",
       "      <th>married</th>\n",
       "      <th>employed</th>\n",
       "      <th>household</th>\n",
       "      <th>residence</th>\n",
       "      <th>ethnicity</th>\n",
       "      <th>education</th>\n",
       "    </tr>\n",
       "  </thead>\n",
       "  <tbody>\n",
       "    <tr>\n",
       "      <th>0</th>\n",
       "      <td>PO1</td>\n",
       "      <td>1</td>\n",
       "      <td>31</td>\n",
       "      <td>0</td>\n",
       "      <td>1</td>\n",
       "      <td>1</td>\n",
       "      <td>1</td>\n",
       "      <td>1</td>\n",
       "      <td>4</td>\n",
       "      <td>2</td>\n",
       "      <td>2</td>\n",
       "      <td>1</td>\n",
       "    </tr>\n",
       "    <tr>\n",
       "      <th>1</th>\n",
       "      <td>PO2</td>\n",
       "      <td>1</td>\n",
       "      <td>31</td>\n",
       "      <td>0</td>\n",
       "      <td>0</td>\n",
       "      <td>1</td>\n",
       "      <td>1</td>\n",
       "      <td>0</td>\n",
       "      <td>4</td>\n",
       "      <td>2</td>\n",
       "      <td>2</td>\n",
       "      <td>2</td>\n",
       "    </tr>\n",
       "    <tr>\n",
       "      <th>2</th>\n",
       "      <td>PO3</td>\n",
       "      <td>1</td>\n",
       "      <td>54</td>\n",
       "      <td>0</td>\n",
       "      <td>1</td>\n",
       "      <td>1</td>\n",
       "      <td>1</td>\n",
       "      <td>0</td>\n",
       "      <td>5</td>\n",
       "      <td>3</td>\n",
       "      <td>2</td>\n",
       "      <td>0</td>\n",
       "    </tr>\n",
       "    <tr>\n",
       "      <th>3</th>\n",
       "      <td>PO4</td>\n",
       "      <td>1</td>\n",
       "      <td>27</td>\n",
       "      <td>0</td>\n",
       "      <td>1</td>\n",
       "      <td>1</td>\n",
       "      <td>0</td>\n",
       "      <td>0</td>\n",
       "      <td>5</td>\n",
       "      <td>3</td>\n",
       "      <td>2</td>\n",
       "      <td>2</td>\n",
       "    </tr>\n",
       "    <tr>\n",
       "      <th>4</th>\n",
       "      <td>PO5</td>\n",
       "      <td>1</td>\n",
       "      <td>39</td>\n",
       "      <td>0</td>\n",
       "      <td>1</td>\n",
       "      <td>1</td>\n",
       "      <td>1</td>\n",
       "      <td>0</td>\n",
       "      <td>5</td>\n",
       "      <td>3</td>\n",
       "      <td>2</td>\n",
       "      <td>4</td>\n",
       "    </tr>\n",
       "    <tr>\n",
       "      <th>5</th>\n",
       "      <td>PO6</td>\n",
       "      <td>1</td>\n",
       "      <td>32</td>\n",
       "      <td>0</td>\n",
       "      <td>0</td>\n",
       "      <td>0</td>\n",
       "      <td>0</td>\n",
       "      <td>0</td>\n",
       "      <td>3</td>\n",
       "      <td>2</td>\n",
       "      <td>0</td>\n",
       "      <td>1</td>\n",
       "    </tr>\n",
       "    <tr>\n",
       "      <th>6</th>\n",
       "      <td>PO7</td>\n",
       "      <td>0</td>\n",
       "      <td>56</td>\n",
       "      <td>1</td>\n",
       "      <td>0</td>\n",
       "      <td>1</td>\n",
       "      <td>1</td>\n",
       "      <td>0</td>\n",
       "      <td>2</td>\n",
       "      <td>3</td>\n",
       "      <td>2</td>\n",
       "      <td>2</td>\n",
       "    </tr>\n",
       "    <tr>\n",
       "      <th>7</th>\n",
       "      <td>PO8</td>\n",
       "      <td>1</td>\n",
       "      <td>60</td>\n",
       "      <td>0</td>\n",
       "      <td>0</td>\n",
       "      <td>1</td>\n",
       "      <td>1</td>\n",
       "      <td>0</td>\n",
       "      <td>2</td>\n",
       "      <td>2</td>\n",
       "      <td>2</td>\n",
       "      <td>2</td>\n",
       "    </tr>\n",
       "    <tr>\n",
       "      <th>8</th>\n",
       "      <td>PO9</td>\n",
       "      <td>1</td>\n",
       "      <td>62</td>\n",
       "      <td>0</td>\n",
       "      <td>1</td>\n",
       "      <td>1</td>\n",
       "      <td>1</td>\n",
       "      <td>0</td>\n",
       "      <td>2</td>\n",
       "      <td>2</td>\n",
       "      <td>2</td>\n",
       "      <td>2</td>\n",
       "    </tr>\n",
       "    <tr>\n",
       "      <th>9</th>\n",
       "      <td>PO10</td>\n",
       "      <td>1</td>\n",
       "      <td>52</td>\n",
       "      <td>0</td>\n",
       "      <td>0</td>\n",
       "      <td>0</td>\n",
       "      <td>1</td>\n",
       "      <td>0</td>\n",
       "      <td>2</td>\n",
       "      <td>1</td>\n",
       "      <td>0</td>\n",
       "      <td>2</td>\n",
       "    </tr>\n",
       "  </tbody>\n",
       "</table>\n",
       "</div>"
      ],
      "text/plain": [
       "    pid  report  age  hindrance  gender  insured  married  employed  \\\n",
       "0   PO1       1   31          0       1        1        1         1   \n",
       "1   PO2       1   31          0       0        1        1         0   \n",
       "2   PO3       1   54          0       1        1        1         0   \n",
       "3   PO4       1   27          0       1        1        0         0   \n",
       "4   PO5       1   39          0       1        1        1         0   \n",
       "5   PO6       1   32          0       0        0        0         0   \n",
       "6   PO7       0   56          1       0        1        1         0   \n",
       "7   PO8       1   60          0       0        1        1         0   \n",
       "8   PO9       1   62          0       1        1        1         0   \n",
       "9  PO10       1   52          0       0        0        1         0   \n",
       "\n",
       "   household  residence  ethnicity  education  \n",
       "0          4          2          2          1  \n",
       "1          4          2          2          2  \n",
       "2          5          3          2          0  \n",
       "3          5          3          2          2  \n",
       "4          5          3          2          4  \n",
       "5          3          2          0          1  \n",
       "6          2          3          2          2  \n",
       "7          2          2          2          2  \n",
       "8          2          2          2          2  \n",
       "9          2          1          0          2  "
      ]
     },
     "execution_count": 5,
     "metadata": {},
     "output_type": "execute_result"
    }
   ],
   "source": [
    "df.head(10)"
   ]
  },
  {
   "cell_type": "code",
   "execution_count": 6,
   "metadata": {},
   "outputs": [],
   "source": [
    "class ChiSquare:\n",
    "    def __init__(self, dataframe):\n",
    "        self.df = dataframe\n",
    "        self.p = None #P-Value\n",
    "        self.chi2 = None #Chi Test Statistic\n",
    "        self.dof = None\n",
    "        \n",
    "        self.dfObserved = None\n",
    "        self.dfExpected = None\n",
    "        \n",
    "    def _print_chisquare_result(self, colX, alpha):\n",
    "        result = \"\"\n",
    "        if self.p<alpha:\n",
    "            result=\"{0} is IMPORTANT for Prediction\".format(colX)\n",
    "        else:\n",
    "            result=\"{0} is NOT an important predictor. (Discard {0} from model)\".format(colX)\n",
    "\n",
    "        print(result)\n",
    "        \n",
    "    def TestIndependence(self,colX,colY, alpha=0.05):\n",
    "        X = self.df[colX].astype(str)\n",
    "        Y = self.df[colY].astype(str)\n",
    "        \n",
    "        self.dfObserved = pd.crosstab(Y,X) \n",
    "        chi2, p, dof, expected = stats.chi2_contingency(self.dfObserved.values)\n",
    "        self.p = p\n",
    "        self.chi2 = chi2\n",
    "        self.dof = dof \n",
    "        \n",
    "        self.dfExpected = pd.DataFrame(expected, columns=self.dfObserved.columns, index = self.dfObserved.index)\n",
    "        \n",
    "        self._print_chisquare_result(colX,alpha)"
   ]
  },
  {
   "cell_type": "code",
   "execution_count": 7,
   "metadata": {},
   "outputs": [
    {
     "name": "stdout",
     "output_type": "stream",
     "text": [
      "report is IMPORTANT for Prediction\n",
      "age is IMPORTANT for Prediction\n",
      "hindrance is NOT an important predictor. (Discard hindrance from model)\n",
      "gender is IMPORTANT for Prediction\n",
      "married is IMPORTANT for Prediction\n",
      "employed is IMPORTANT for Prediction\n",
      "household is IMPORTANT for Prediction\n",
      "residence is IMPORTANT for Prediction\n",
      "ethnicity is IMPORTANT for Prediction\n",
      "education is IMPORTANT for Prediction\n"
     ]
    }
   ],
   "source": [
    "#Initialize ChiSquare Class\n",
    "cT = ChiSquare(df)\n",
    "\n",
    "#Feature Selection\n",
    "testColumns = ['report', 'age', 'hindrance', 'gender', 'married', 'employed', 'household', \n",
    "                  'residence', 'ethnicity', 'education']\n",
    "for var in testColumns:\n",
    "    cT.TestIndependence(colX=var,colY=\"insured\" )  "
   ]
  },
  {
   "cell_type": "code",
   "execution_count": 25,
   "metadata": {},
   "outputs": [
    {
     "data": {
      "text/plain": [
       "array([[ 1, 31,  1,  1,  1,  4,  2,  1],\n",
       "       [ 1, 31,  0,  1,  0,  4,  2,  2],\n",
       "       [ 1, 54,  1,  1,  0,  5,  3,  0]])"
      ]
     },
     "execution_count": 25,
     "metadata": {},
     "output_type": "execute_result"
    }
   ],
   "source": [
    "# Defining X\n",
    "X = np.asarray(df[['report', 'age', 'gender', 'married', 'employed', 'household', \n",
    "                  'residence', 'education']])\n",
    "X[0:3]\n"
   ]
  },
  {
   "cell_type": "code",
   "execution_count": 26,
   "metadata": {},
   "outputs": [
    {
     "data": {
      "text/plain": [
       "array([1, 1, 1, 1, 1, 0, 1, 1, 1, 0], dtype=int8)"
      ]
     },
     "execution_count": 26,
     "metadata": {},
     "output_type": "execute_result"
    }
   ],
   "source": [
    "# Defining y\n",
    "y = np.asarray(df['insured'])\n",
    "y [0:10]"
   ]
  },
  {
   "cell_type": "code",
   "execution_count": 27,
   "metadata": {},
   "outputs": [
    {
     "data": {
      "text/plain": [
       "array([[ 0.27741796, -0.71437403,  0.94860366,  0.7874639 ,  2.68672429,\n",
       "         0.5812584 ,  0.39044295, -1.02147935],\n",
       "       [ 0.27741796, -0.71437403, -1.05418104,  0.7874639 , -0.37220045,\n",
       "         0.5812584 ,  0.39044295, -0.26004124],\n",
       "       [ 0.27741796,  1.35579723,  0.94860366,  0.7874639 , -0.37220045,\n",
       "         1.22247115,  1.3177713 , -1.78291747],\n",
       "       [ 0.27741796, -1.07440381,  0.94860366, -1.26989948, -0.37220045,\n",
       "         1.22247115,  1.3177713 , -0.26004124],\n",
       "       [ 0.27741796,  0.00568554,  0.94860366,  0.7874639 , -0.37220045,\n",
       "         1.22247115,  1.3177713 ,  1.26283499]])"
      ]
     },
     "execution_count": 27,
     "metadata": {},
     "output_type": "execute_result"
    }
   ],
   "source": [
    "# normalize the dataset\n",
    "from sklearn import preprocessing\n",
    "X = preprocessing.StandardScaler().fit(X).transform(X)\n",
    "X[0:5]"
   ]
  },
  {
   "cell_type": "code",
   "execution_count": 29,
   "metadata": {},
   "outputs": [
    {
     "name": "stdout",
     "output_type": "stream",
     "text": [
      "Train set: (6161, 8) (6161,)\n",
      "Test set: (2641, 8) (2641,)\n"
     ]
    }
   ],
   "source": [
    "# Split our dataset into train and test set\n",
    "\n",
    "from sklearn.model_selection import train_test_split\n",
    "X_train, X_test, y_train, y_test = train_test_split( X, y, test_size = 0.3, random_state = 4)\n",
    "print ('Train set:', X_train.shape,  y_train.shape)\n",
    "print ('Test set:', X_test.shape,  y_test.shape)"
   ]
  },
  {
   "cell_type": "code",
   "execution_count": 30,
   "metadata": {},
   "outputs": [
    {
     "data": {
      "text/plain": [
       "LogisticRegression(C=0.01, class_weight=None, dual=False, fit_intercept=True,\n",
       "                   intercept_scaling=1, l1_ratio=None, max_iter=100,\n",
       "                   multi_class='warn', n_jobs=None, penalty='l2',\n",
       "                   random_state=None, solver='liblinear', tol=0.0001, verbose=0,\n",
       "                   warm_start=False)"
      ]
     },
     "execution_count": 30,
     "metadata": {},
     "output_type": "execute_result"
    }
   ],
   "source": [
    "# Fitting my model with train set\n",
    "# Regularization is a technique used to solve the overfitting problem in machine learning models.\n",
    "#C__ parameter indicates __inverse of regularization strength which must be a positive float\n",
    "\n",
    "from sklearn.linear_model import LogisticRegression\n",
    "from sklearn.metrics import confusion_matrix\n",
    "LR = LogisticRegression(C = 0.01, solver = 'liblinear').fit(X_train,y_train)\n",
    "LR"
   ]
  },
  {
   "cell_type": "code",
   "execution_count": 31,
   "metadata": {},
   "outputs": [
    {
     "data": {
      "text/plain": [
       "array([1, 1, 1, ..., 1, 1, 1], dtype=int8)"
      ]
     },
     "execution_count": 31,
     "metadata": {},
     "output_type": "execute_result"
    }
   ],
   "source": [
    "# Lets predict using our test set:\n",
    "\n",
    "yhat = LR.predict(X_test)\n",
    "yhat"
   ]
  },
  {
   "cell_type": "code",
   "execution_count": 32,
   "metadata": {},
   "outputs": [
    {
     "data": {
      "text/plain": [
       "array([[0.32987422, 0.67012578],\n",
       "       [0.24304004, 0.75695996],\n",
       "       [0.1690256 , 0.8309744 ],\n",
       "       ...,\n",
       "       [0.21842342, 0.78157658],\n",
       "       [0.26887432, 0.73112568],\n",
       "       [0.15971649, 0.84028351]])"
      ]
     },
     "execution_count": 32,
     "metadata": {},
     "output_type": "execute_result"
    }
   ],
   "source": [
    "# predict_proba returns estimates for all classes, ordered by the label of classes. So, the first column is the probability of class 1, P(Y=1|X), \n",
    "#and second column is probability of class 0, P(Y=0|X):\n",
    "\n",
    "yhat_prob = LR.predict_proba(X_test)\n",
    "yhat_prob"
   ]
  },
  {
   "cell_type": "markdown",
   "metadata": {},
   "source": [
    "Model evaluation"
   ]
  },
  {
   "cell_type": "code",
   "execution_count": 33,
   "metadata": {},
   "outputs": [
    {
     "name": "stderr",
     "output_type": "stream",
     "text": [
      "/home/akorir/Desktop/projects/korir_env/lib/python3.5/site-packages/sklearn/metrics/classification.py:635: DeprecationWarning: jaccard_similarity_score has been deprecated and replaced with jaccard_score. It will be removed in version 0.23. This implementation has surprising behavior for binary and multiclass classification tasks.\n",
      "  'and multiclass classification tasks.', DeprecationWarning)\n"
     ]
    },
    {
     "data": {
      "text/plain": [
       "0.8042408178720182"
      ]
     },
     "execution_count": 33,
     "metadata": {},
     "output_type": "execute_result"
    }
   ],
   "source": [
    "from sklearn.metrics import jaccard_similarity_score\n",
    "jaccard_similarity_score(y_test, yhat)"
   ]
  },
  {
   "cell_type": "markdown",
   "metadata": {},
   "source": [
    "Using a confusion matrix."
   ]
  },
  {
   "cell_type": "code",
   "execution_count": 34,
   "metadata": {},
   "outputs": [
    {
     "name": "stdout",
     "output_type": "stream",
     "text": [
      "[[2088   41]\n",
      " [ 476   36]]\n"
     ]
    }
   ],
   "source": [
    "from sklearn.metrics import classification_report, confusion_matrix\n",
    "import itertools\n",
    "def plot_confusion_matrix(cm, classes,\n",
    "                          normalize = False,\n",
    "                          title = 'Confusion matrix',\n",
    "                          cmap = plt.cm.Blues):\n",
    "\n",
    "    if normalize:\n",
    "        cm = cm.astype('float') / cm.sum(axis = 1)[:, np.newaxis]\n",
    "        print(\"Normalized confusion matrix\")\n",
    "    else:\n",
    "        print('Confusion matrix, without normalization')\n",
    "\n",
    "    print(cm)\n",
    "\n",
    "    plt.imshow(cm, interpolation = 'nearest', cmap = cmap)\n",
    "    plt.title(title)\n",
    "    plt.colorbar()\n",
    "    tick_marks = np.arange(len(classes))\n",
    "    plt.xticks(tick_marks, classes, rotation = 45)\n",
    "    plt.yticks(tick_marks, classes)\n",
    "\n",
    "    fmt = '.2f' if normalize else 'd'\n",
    "    thresh = cm.max() / 2.\n",
    "    for i, j in itertools.product(range(cm.shape[0]), range(cm.shape[1])):\n",
    "        plt.text(j, i, format(cm[i, j], fmt),\n",
    "                 horizontalalignment=\"center\",\n",
    "                 color=\"white\" if cm[i, j] > thresh else \"black\")\n",
    "\n",
    "    plt.tight_layout()\n",
    "    plt.ylabel('True label')\n",
    "    plt.xlabel('Predicted label')\n",
    "print(confusion_matrix(y_test, yhat, labels=[1,0]))"
   ]
  },
  {
   "cell_type": "code",
   "execution_count": 65,
   "metadata": {},
   "outputs": [
    {
     "name": "stdout",
     "output_type": "stream",
     "text": [
      "Confusion matrix, without normalization\n",
      "[[1384   26]\n",
      " [ 325   26]]\n"
     ]
    },
    {
     "data": {
      "image/png": "[encoded data removed]",
      "text/plain": [
       "<Figure size 432x288 with 2 Axes>"
      ]
     },
     "metadata": {
      "needs_background": "light"
     },
     "output_type": "display_data"
    }
   ],
   "source": [
    "# Compute confusion matrix\n",
    "cnf_matrix = confusion_matrix(y_test, yhat, labels = [1,0])\n",
    "np.set_printoptions(precision = 2)\n",
    "\n",
    "\n",
    "# Plot non-normalized confusion matrix\n",
    "plt.figure()\n",
    "plot_confusion_matrix(cnf_matrix, classes = ['insured=1','insured=0'],\n",
    "                      normalize = False,  title='Confusion matrix')"
   ]
  },
  {
   "cell_type": "code",
   "execution_count": 35,
   "metadata": {},
   "outputs": [
    {
     "name": "stdout",
     "output_type": "stream",
     "text": [
      "              precision    recall  f1-score   support\n",
      "\n",
      "           0       0.47      0.07      0.12       512\n",
      "           1       0.81      0.98      0.89      2129\n",
      "\n",
      "    accuracy                           0.80      2641\n",
      "   macro avg       0.64      0.53      0.51      2641\n",
      "weighted avg       0.75      0.80      0.74      2641\n",
      "\n"
     ]
    }
   ],
   "source": [
    "print (classification_report(y_test, yhat))"
   ]
  },
  {
   "cell_type": "markdown",
   "metadata": {},
   "source": [
    "The precision is intuitively the ability of the classifier to not label a sample as positive if it is negative.\n",
    "The recall is intuitively the ability of the classifier to find all the positive samples.\n",
    "The F-score can be interpreted as a weighted harmonic mean of the precision and recall, \n",
    "where an F-score reaches its best value at 1 and worst score at 0.\n",
    "The support is the number of occurrences of each class in y_test."
   ]
  },
  {
   "cell_type": "markdown",
   "metadata": {},
   "source": [
    "Implementing the model"
   ]
  },
  {
   "cell_type": "code",
   "execution_count": 18,
   "metadata": {},
   "outputs": [
    {
     "name": "stdout",
     "output_type": "stream",
     "text": [
      "Optimization terminated successfully.\n",
      "         Current function value: 0.662196\n",
      "         Iterations 5\n",
      "                         Results: Logit\n",
      "=================================================================\n",
      "Model:              Logit            Pseudo R-squared: -0.328    \n",
      "Dependent Variable: y                AIC:              11675.3057\n",
      "Date:               2019-06-09 12:40 BIC:              11739.0503\n",
      "No. Observations:   8802             Log-Likelihood:   -5828.7   \n",
      "Df Model:           8                LL-Null:          -4390.1   \n",
      "Df Residuals:       8793             LLR p-value:      1.0000    \n",
      "Converged:          1.0000           Scale:            1.0000    \n",
      "No. Iterations:     5.0000                                       \n",
      "--------------------------------------------------------------------\n",
      "       Coef.     Std.Err.       z       P>|z|      [0.025     0.975]\n",
      "--------------------------------------------------------------------\n",
      "x1     0.0934      0.0223     4.1892    0.0000     0.0497     0.1371\n",
      "x2     0.1805      0.0241     7.4918    0.0000     0.1333     0.2277\n",
      "x3    -0.1050      0.0221    -4.7409    0.0000    -0.1484    -0.0616\n",
      "x4     0.3279      0.0251    13.0874    0.0000     0.2788     0.3770\n",
      "x5    -0.2278      0.0228    -9.9975    0.0000    -0.2725    -0.1832\n",
      "x6    -0.1834      0.0246    -7.4716    0.0000    -0.2316    -0.1353\n",
      "x7    -0.1281      0.0221    -5.8008    0.0000    -0.1714    -0.0848\n",
      "x8     0.0403      0.0222     1.8105    0.0702    -0.0033     0.0839\n",
      "x9    -0.1270      0.0221    -5.7485    0.0000    -0.1704    -0.0837\n",
      "=================================================================\n",
      "\n"
     ]
    }
   ],
   "source": [
    "import statsmodels.api as sm\n",
    "logit_model = sm.Logit(y,X)\n",
    "result = logit_model.fit()\n",
    "print(result.summary2())"
   ]
  },
  {
   "cell_type": "markdown",
   "metadata": {},
   "source": [
    "The p-values for most of the variables are smaller than 0.05, \n",
    "except region of residence and the ethnicity, therefore, we will remove them."
   ]
  },
  {
   "cell_type": "code",
   "execution_count": 22,
   "metadata": {},
   "outputs": [
    {
     "name": "stdout",
     "output_type": "stream",
     "text": [
      "Optimization terminated successfully.\n",
      "         Current function value: 0.455423\n",
      "         Iterations 6\n",
      "                          Results: Logit\n",
      "==================================================================\n",
      "Model:              Logit            Pseudo R-squared: 0.087      \n",
      "Dependent Variable: insured          AIC:              8031.2588  \n",
      "Date:               2019-06-09 12:52 BIC:              8080.8379  \n",
      "No. Observations:   8802             Log-Likelihood:   -4008.6    \n",
      "Df Model:           6                LL-Null:          -4390.1    \n",
      "Df Residuals:       8795             LLR p-value:      1.5833e-161\n",
      "Converged:          1.0000           Scale:            1.0000     \n",
      "No. Iterations:     6.0000                                        \n",
      "-------------------------------------------------------------------\n",
      "               Coef.   Std.Err.     z      P>|z|    [0.025   0.975]\n",
      "-------------------------------------------------------------------\n",
      "report         0.7710    0.0766   10.0622  0.0000   0.6208   0.9212\n",
      "age            0.0328    0.0021   15.5085  0.0000   0.0286   0.0369\n",
      "gender        -0.3081    0.0560   -5.5007  0.0000  -0.4178  -0.1983\n",
      "married        1.0097    0.0628   16.0672  0.0000   0.8866   1.1329\n",
      "employed      -1.0695    0.0785  -13.6182  0.0000  -1.2234  -0.9155\n",
      "household     -0.1451    0.0163   -8.9238  0.0000  -0.1769  -0.1132\n",
      "education     -0.1375    0.0202   -6.7922  0.0000  -0.1771  -0.0978\n",
      "==================================================================\n",
      "\n"
     ]
    }
   ],
   "source": [
    "cols = ['report', 'age', 'gender', 'married', 'employed', 'household', 'education'] \n",
    "X = df[cols]\n",
    "y = df['insured']\n",
    "\n",
    "logit_model = sm.Logit(y,X)\n",
    "result = logit_model.fit()\n",
    "print(result.summary2())"
   ]
  },
  {
   "cell_type": "markdown",
   "metadata": {},
   "source": [
    "Conclusion: self health status report, age, gender, marital staus, self employment status, \n",
    "    size of houshold and level of education influence the uptake of healthcare insurance"
   ]
  },
  {
   "cell_type": "code",
   "execution_count": 24,
   "metadata": {},
   "outputs": [
    {
     "data": {
      "image/png": "[encoded data removed]",
      "text/plain": [
       "<Figure size 432x288 with 1 Axes>"
      ]
     },
     "metadata": {
      "needs_background": "light"
     },
     "output_type": "display_data"
    }
   ],
   "source": [
    "from sklearn.metrics import roc_auc_score\n",
    "from sklearn.metrics import roc_curve\n",
    "\n",
    "logit_roc_auc = roc_auc_score(y_test, LR.predict(X_test))\n",
    "fpr, tpr, thresholds = roc_curve(y_test, LR.predict_proba(X_test)[:,1])\n",
    "plt.figure()\n",
    "plt.plot(fpr, tpr, label = 'Logistic Regression (area = %0.2f)' % logit_roc_auc)\n",
    "plt.plot([0, 1], [0, 1],'r--')\n",
    "plt.xlim([0.0, 1.0])\n",
    "plt.ylim([0.0, 1.05])\n",
    "plt.xlabel('False Positive Rate')\n",
    "plt.ylabel('True Positive Rate')\n",
    "plt.title('Receiver operating characteristic')\n",
    "plt.legend(loc=\"lower right\")\n",
    "plt.savefig('Log_ROC')\n",
    "plt.show()"
   ]
  },
  {
   "cell_type": "markdown",
   "metadata": {},
   "source": [
    "The receiver operating characteristic (ROC) curve is \n",
    "another common tool used with binary classifiers. The dotted line represents \n",
    "the ROC curve of a purely random classifier; a good classifier stays as \n",
    "far away from that line as possible (toward the top-left corner)."
   ]
  },
  {
   "cell_type": "code",
   "execution_count": null,
   "metadata": {},
   "outputs": [],
   "source": []
  }
 ],
 "metadata": {
  "kernelspec": {
   "display_name": "Python 3",
   "language": "python",
   "name": "python3"
  },
  "language_info": {
   "codemirror_mode": {
    "name": "ipython",
    "version": 3
   },
   "file_extension": ".py",
   "mimetype": "text/x-python",
   "name": "python",
   "nbconvert_exporter": "python",
   "pygments_lexer": "ipython3",
   "version": "3.5.2"
  }
 },
 "nbformat": 4,
 "nbformat_minor": 2
}
